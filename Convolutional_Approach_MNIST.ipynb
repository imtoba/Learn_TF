{
  "nbformat": 4,
  "nbformat_minor": 0,
  "metadata": {
    "colab": {
      "name": "Convolutional_Approach_MNIST.ipynb",
      "version": "0.3.2",
      "views": {},
      "default_view": {},
      "provenance": [],
      "collapsed_sections": []
    },
    "kernelspec": {
      "display_name": "Python 2",
      "language": "python",
      "name": "python2"
    },
    "accelerator": "GPU"
  },
  "cells": [
    {
      "metadata": {
        "id": "tMbXAEkBnccQ",
        "colab_type": "code",
        "colab": {
          "autoexec": {
            "startup": false,
            "wait_interval": 0
          }
        }
      },
      "cell_type": "code",
      "source": [
        "import tensorflow as tf"
      ],
      "execution_count": 0,
      "outputs": []
    },
    {
      "metadata": {
        "id": "884qBsZQnccm",
        "colab_type": "code",
        "colab": {
          "autoexec": {
            "startup": false,
            "wait_interval": 0
          }
        }
      },
      "cell_type": "code",
      "source": [
        "from tensorflow.examples.tutorials.mnist import input_data"
      ],
      "execution_count": 0,
      "outputs": []
    },
    {
      "metadata": {
        "id": "N2M6ohWrncc0",
        "colab_type": "code",
        "colab": {
          "autoexec": {
            "startup": false,
            "wait_interval": 0
          },
          "base_uri": "https://localhost:8080/",
          "height": 419
        },
        "outputId": "392af7b7-6f7d-4e82-b7ea-0c291620230f",
        "executionInfo": {
          "status": "ok",
          "timestamp": 1524206728090,
          "user_tz": -330,
          "elapsed": 1392,
          "user": {
            "displayName": "Iresh Mishra",
            "photoUrl": "https://lh3.googleusercontent.com/a/default-user=s128",
            "userId": "113084233984419493374"
          }
        }
      },
      "cell_type": "code",
      "source": [
        "mnist= input_data.read_data_sets(\"MNIST_data/\",one_hot=True)"
      ],
      "execution_count": 3,
      "outputs": [
        {
          "output_type": "stream",
          "text": [
            "WARNING:tensorflow:From <ipython-input-3-71d5fea259fa>:1: read_data_sets (from tensorflow.contrib.learn.python.learn.datasets.mnist) is deprecated and will be removed in a future version.\n",
            "Instructions for updating:\n",
            "Please use alternatives such as official/mnist/dataset.py from tensorflow/models.\n",
            "WARNING:tensorflow:From /usr/local/lib/python2.7/dist-packages/tensorflow/contrib/learn/python/learn/datasets/mnist.py:260: maybe_download (from tensorflow.contrib.learn.python.learn.datasets.base) is deprecated and will be removed in a future version.\n",
            "Instructions for updating:\n",
            "Please write your own downloading logic.\n",
            "WARNING:tensorflow:From /usr/local/lib/python2.7/dist-packages/tensorflow/contrib/learn/python/learn/datasets/mnist.py:262: extract_images (from tensorflow.contrib.learn.python.learn.datasets.mnist) is deprecated and will be removed in a future version.\n",
            "Instructions for updating:\n",
            "Please use tf.data to implement this functionality.\n",
            "Extracting MNIST_data/train-images-idx3-ubyte.gz\n",
            "WARNING:tensorflow:From /usr/local/lib/python2.7/dist-packages/tensorflow/contrib/learn/python/learn/datasets/mnist.py:267: extract_labels (from tensorflow.contrib.learn.python.learn.datasets.mnist) is deprecated and will be removed in a future version.\n",
            "Instructions for updating:\n",
            "Please use tf.data to implement this functionality.\n",
            "Extracting MNIST_data/train-labels-idx1-ubyte.gz\n",
            "WARNING:tensorflow:From /usr/local/lib/python2.7/dist-packages/tensorflow/contrib/learn/python/learn/datasets/mnist.py:110: dense_to_one_hot (from tensorflow.contrib.learn.python.learn.datasets.mnist) is deprecated and will be removed in a future version.\n",
            "Instructions for updating:\n",
            "Please use tf.one_hot on tensors.\n",
            "Extracting MNIST_data/t10k-images-idx3-ubyte.gz\n",
            "Extracting MNIST_data/t10k-labels-idx1-ubyte.gz\n",
            "WARNING:tensorflow:From /usr/local/lib/python2.7/dist-packages/tensorflow/contrib/learn/python/learn/datasets/mnist.py:290: __init__ (from tensorflow.contrib.learn.python.learn.datasets.mnist) is deprecated and will be removed in a future version.\n",
            "Instructions for updating:\n",
            "Please use alternatives such as official/mnist/dataset.py from tensorflow/models.\n"
          ],
          "name": "stdout"
        }
      ]
    },
    {
      "metadata": {
        "id": "o5AX_KcuncdO",
        "colab_type": "code",
        "colab": {
          "autoexec": {
            "startup": false,
            "wait_interval": 0
          }
        }
      },
      "cell_type": "code",
      "source": [
        "#HELPER\n",
        "\n",
        "#INIT WEIGHTS"
      ],
      "execution_count": 0,
      "outputs": []
    },
    {
      "metadata": {
        "id": "giLTtRfbncdW",
        "colab_type": "code",
        "colab": {
          "autoexec": {
            "startup": false,
            "wait_interval": 0
          }
        }
      },
      "cell_type": "code",
      "source": [
        "def init_weights(shape):\n",
        "    init_random_dist = tf.truncated_normal(shape,stddev=0.1)\n",
        "    return tf.Variable(init_random_dist)    "
      ],
      "execution_count": 0,
      "outputs": []
    },
    {
      "metadata": {
        "id": "mZv-yfCHncdg",
        "colab_type": "code",
        "colab": {
          "autoexec": {
            "startup": false,
            "wait_interval": 0
          }
        }
      },
      "cell_type": "code",
      "source": [
        "#INIT BIAS"
      ],
      "execution_count": 0,
      "outputs": []
    },
    {
      "metadata": {
        "id": "rB9w1421ncds",
        "colab_type": "code",
        "colab": {
          "autoexec": {
            "startup": false,
            "wait_interval": 0
          }
        }
      },
      "cell_type": "code",
      "source": [
        "def init_bias(shape):\n",
        "    init_bias=tf.constant(0.1,shape=shape)\n",
        "    return tf.Variable(init_bias)"
      ],
      "execution_count": 0,
      "outputs": []
    },
    {
      "metadata": {
        "id": "3Pfp3Mrmncd2",
        "colab_type": "code",
        "colab": {
          "autoexec": {
            "startup": false,
            "wait_interval": 0
          }
        }
      },
      "cell_type": "code",
      "source": [
        "# CONV2D"
      ],
      "execution_count": 0,
      "outputs": []
    },
    {
      "metadata": {
        "id": "3cxi5P2dnceE",
        "colab_type": "code",
        "colab": {
          "autoexec": {
            "startup": false,
            "wait_interval": 0
          }
        }
      },
      "cell_type": "code",
      "source": [
        "def conv2d(x,W):\n",
        "    #x --- > [batch,H,W,Channels]\n",
        "\n",
        "    #W ----> [filter H,filter W,Channels IN, Channels OUT]\n",
        "    \n",
        "    return tf.nn.conv2d(x,W,strides=[1,1,1,1],padding='SAME')"
      ],
      "execution_count": 0,
      "outputs": []
    },
    {
      "metadata": {
        "id": "4oNqqJ-rnceg",
        "colab_type": "code",
        "colab": {
          "autoexec": {
            "startup": false,
            "wait_interval": 0
          }
        }
      },
      "cell_type": "code",
      "source": [
        "#POOLING"
      ],
      "execution_count": 0,
      "outputs": []
    },
    {
      "metadata": {
        "id": "og3pGyLSnceu",
        "colab_type": "code",
        "colab": {
          "autoexec": {
            "startup": false,
            "wait_interval": 0
          }
        }
      },
      "cell_type": "code",
      "source": [
        "def max_pool_2by2(x):\n",
        "    \n",
        "    #x --- > [batch,H,W,Channels]\n",
        "    return tf.nn.max_pool(x,ksize=[1,2,2,1],strides=[1,2,2,1],padding='SAME')\n"
      ],
      "execution_count": 0,
      "outputs": []
    },
    {
      "metadata": {
        "id": "vCvod2pjncfK",
        "colab_type": "code",
        "colab": {
          "autoexec": {
            "startup": false,
            "wait_interval": 0
          }
        }
      },
      "cell_type": "code",
      "source": [
        "#CONVOLUTIONAL LAYER\n",
        "\n",
        "    "
      ],
      "execution_count": 0,
      "outputs": []
    },
    {
      "metadata": {
        "id": "IDHKKx7MncfU",
        "colab_type": "code",
        "colab": {
          "autoexec": {
            "startup": false,
            "wait_interval": 0
          }
        }
      },
      "cell_type": "code",
      "source": [
        "def conv_layer(input_x,shape):\n",
        "    \n",
        "    W=init_weights(shape)\n",
        "    b=init_bias([shape[3]])\n",
        "    return tf.nn.relu(conv2d(input_x,W)+b)"
      ],
      "execution_count": 0,
      "outputs": []
    },
    {
      "metadata": {
        "id": "NZeCUBs6ncfg",
        "colab_type": "code",
        "colab": {
          "autoexec": {
            "startup": false,
            "wait_interval": 0
          }
        }
      },
      "cell_type": "code",
      "source": [
        "def normal_fc_layer(input_layer,size):\n",
        "    input_size = int(input_layer.get_shape()[1])\n",
        "    W = init_weights([input_size, size])\n",
        "    b = init_bias([size])\n",
        "    return tf.matmul(input_layer, W) + b\n",
        "    \n",
        "    \"\"\"\n",
        "    input_size= int(input_layer.get_shape()[1])\n",
        "    \n",
        "    W=init_weights([input_layer,size])\n",
        "    \n",
        "    b=init_bias([size])\n",
        "    \n",
        "    return tf.matmul(input_layer,W) + b\n",
        "    \"\"\""
      ],
      "execution_count": 0,
      "outputs": []
    },
    {
      "metadata": {
        "id": "YkPjL2Yhncfs",
        "colab_type": "code",
        "colab": {
          "autoexec": {
            "startup": false,
            "wait_interval": 0
          }
        }
      },
      "cell_type": "code",
      "source": [
        "#PLACEHOLDER\n",
        "x=tf.placeholder(tf.float32,shape=[None,784])"
      ],
      "execution_count": 0,
      "outputs": []
    },
    {
      "metadata": {
        "id": "66ITvkfKncfy",
        "colab_type": "code",
        "colab": {
          "autoexec": {
            "startup": false,
            "wait_interval": 0
          }
        }
      },
      "cell_type": "code",
      "source": [
        "y_true=tf.placeholder(tf.float32,shape=[None,10])\n",
        "\n"
      ],
      "execution_count": 0,
      "outputs": []
    },
    {
      "metadata": {
        "id": "t_ocIR_6ncf6",
        "colab_type": "code",
        "colab": {
          "autoexec": {
            "startup": false,
            "wait_interval": 0
          }
        }
      },
      "cell_type": "code",
      "source": [
        "#INPUT_LAYER\n",
        "x_image=tf.reshape(x,[-1,28,28,1])"
      ],
      "execution_count": 0,
      "outputs": []
    },
    {
      "metadata": {
        "id": "DXI-vN_-ncgW",
        "colab_type": "code",
        "colab": {
          "autoexec": {
            "startup": false,
            "wait_interval": 0
          }
        }
      },
      "cell_type": "code",
      "source": [
        "#CONVO_LAYER\n",
        "convo_1=conv_layer(x_image,shape=[5,5,1,32])\n",
        "convo_1_pooling=max_pool_2by2(convo_1)"
      ],
      "execution_count": 0,
      "outputs": []
    },
    {
      "metadata": {
        "id": "jLLO-GPpncg4",
        "colab_type": "code",
        "colab": {
          "autoexec": {
            "startup": false,
            "wait_interval": 0
          }
        }
      },
      "cell_type": "code",
      "source": [
        "convo_2=conv_layer(convo_1_pooling,shape=[5,5,32,64])\n",
        "convo_2_pooling=max_pool_2by2(convo_2)"
      ],
      "execution_count": 0,
      "outputs": []
    },
    {
      "metadata": {
        "id": "r27-JCjZnchG",
        "colab_type": "code",
        "colab": {
          "autoexec": {
            "startup": false,
            "wait_interval": 0
          }
        }
      },
      "cell_type": "code",
      "source": [
        "convo_2_flat=tf.reshape(convo_2_pooling,[-1,7*7*64])\n",
        "full_layer_1=tf.nn.relu(normal_fc_layer(convo_2_flat,1024))"
      ],
      "execution_count": 0,
      "outputs": []
    },
    {
      "metadata": {
        "id": "oEJshM-6nchU",
        "colab_type": "code",
        "colab": {
          "autoexec": {
            "startup": false,
            "wait_interval": 0
          }
        }
      },
      "cell_type": "code",
      "source": [
        "#DROP+OUT\n"
      ],
      "execution_count": 0,
      "outputs": []
    },
    {
      "metadata": {
        "id": "rxdHQDYEnchq",
        "colab_type": "code",
        "colab": {
          "autoexec": {
            "startup": false,
            "wait_interval": 0
          }
        }
      },
      "cell_type": "code",
      "source": [
        "hold_prob=tf.placeholder(tf.float32)\n",
        "full_one_dropout=tf.nn.dropout(full_layer_1,keep_prob=hold_prob)"
      ],
      "execution_count": 0,
      "outputs": []
    },
    {
      "metadata": {
        "id": "trjeNwfVnch0",
        "colab_type": "code",
        "colab": {
          "autoexec": {
            "startup": false,
            "wait_interval": 0
          }
        }
      },
      "cell_type": "code",
      "source": [
        "y_pred=normal_fc_layer(full_one_dropout,10)"
      ],
      "execution_count": 0,
      "outputs": []
    },
    {
      "metadata": {
        "id": "VhTfu_1Oncig",
        "colab_type": "code",
        "colab": {
          "autoexec": {
            "startup": false,
            "wait_interval": 0
          },
          "base_uri": "https://localhost:8080/",
          "height": 176
        },
        "outputId": "7ceeff2a-39d7-40e4-e165-6d605df133d9",
        "executionInfo": {
          "status": "ok",
          "timestamp": 1524206756006,
          "user_tz": -330,
          "elapsed": 830,
          "user": {
            "displayName": "Iresh Mishra",
            "photoUrl": "https://lh3.googleusercontent.com/a/default-user=s128",
            "userId": "113084233984419493374"
          }
        }
      },
      "cell_type": "code",
      "source": [
        "    #LOSS FUNCTION \n",
        "cross_entropy=tf.reduce_mean(tf.nn.softmax_cross_entropy_with_logits(labels=y_true,logits=y_pred))"
      ],
      "execution_count": 22,
      "outputs": [
        {
          "output_type": "stream",
          "text": [
            "WARNING:tensorflow:From <ipython-input-22-fcadc5f72f56>:1: softmax_cross_entropy_with_logits (from tensorflow.python.ops.nn_ops) is deprecated and will be removed in a future version.\n",
            "Instructions for updating:\n",
            "\n",
            "Future major versions of TensorFlow will allow gradients to flow\n",
            "into the labels input on backprop by default.\n",
            "\n",
            "See tf.nn.softmax_cross_entropy_with_logits_v2.\n",
            "\n"
          ],
          "name": "stdout"
        }
      ]
    },
    {
      "metadata": {
        "id": "8vHrLifbncj2",
        "colab_type": "code",
        "colab": {
          "autoexec": {
            "startup": false,
            "wait_interval": 0
          }
        }
      },
      "cell_type": "code",
      "source": [
        "#OPtimzr\n",
        "optimizer=tf.train.AdamOptimizer(learning_rate=0.001 )\n",
        "\n",
        "train= optimizer.minimize(cross_entropy)"
      ],
      "execution_count": 0,
      "outputs": []
    },
    {
      "metadata": {
        "id": "IRkNnGunn0vo",
        "colab_type": "code",
        "colab": {
          "autoexec": {
            "startup": false,
            "wait_interval": 0
          }
        }
      },
      "cell_type": "code",
      "source": [
        "init = tf.global_variables_initializer()"
      ],
      "execution_count": 0,
      "outputs": []
    },
    {
      "metadata": {
        "id": "m0JGKGNRuqZo",
        "colab_type": "code",
        "colab": {
          "autoexec": {
            "startup": false,
            "wait_interval": 0
          },
          "base_uri": "https://localhost:8080/",
          "height": 4359
        },
        "outputId": "d96554f0-8912-492c-f968-cafb0b60c9ff",
        "executionInfo": {
          "status": "ok",
          "timestamp": 1524206836682,
          "user_tz": -330,
          "elapsed": 60406,
          "user": {
            "displayName": "Iresh Mishra",
            "photoUrl": "https://lh3.googleusercontent.com/a/default-user=s128",
            "userId": "113084233984419493374"
          }
        }
      },
      "cell_type": "code",
      "source": [
        "steps=5000\n",
        "\n",
        "with tf.Session() as sess:\n",
        "  sess.run(init)\n",
        "  \n",
        "  for i in range(steps):\n",
        "    \n",
        "    batch_x,batch_y = mnist.train.next_batch(64)\n",
        "    \n",
        "    sess.run(train,feed_dict={x:batch_x,y_true:batch_y,hold_prob:0.5})\n",
        "    \n",
        "    if i%100 == 0:\n",
        "      print(\"ON STEP #:\",format(i))\n",
        "      print(\"Accuracy:\")\n",
        "      \n",
        "      matches= tf.equal(tf.argmax(y_pred,1),tf.argmax(y_true,1))\n",
        "      \n",
        "      acc= tf.reduce_mean(tf.cast(matches,tf.float32))\n",
        "      \n",
        "      print(sess.run(acc,feed_dict={x:mnist.test.images,y_true:mnist.test.labels,hold_prob:1.0}))\n",
        "\n",
        "      print('\\n')"
      ],
      "execution_count": 26,
      "outputs": [
        {
          "output_type": "stream",
          "text": [
            "('ON STEP #:', '0')\n",
            "Accuracy:\n",
            "0.2043\n",
            "\n",
            "\n",
            "('ON STEP #:', '100')\n",
            "Accuracy:\n",
            "0.9517\n",
            "\n",
            "\n",
            "('ON STEP #:', '200')\n",
            "Accuracy:\n",
            "0.965\n",
            "\n",
            "\n",
            "('ON STEP #:', '300')\n",
            "Accuracy:\n",
            "0.9716\n",
            "\n",
            "\n",
            "('ON STEP #:', '400')\n",
            "Accuracy:\n",
            "0.9766\n",
            "\n",
            "\n",
            "('ON STEP #:', '500')\n",
            "Accuracy:\n",
            "0.9784\n",
            "\n",
            "\n",
            "('ON STEP #:', '600')\n",
            "Accuracy:\n",
            "0.9807\n",
            "\n",
            "\n",
            "('ON STEP #:', '700')\n",
            "Accuracy:\n",
            "0.9784\n",
            "\n",
            "\n",
            "('ON STEP #:', '800')\n",
            "Accuracy:\n",
            "0.9815\n",
            "\n",
            "\n",
            "('ON STEP #:', '900')\n",
            "Accuracy:\n",
            "0.9818\n",
            "\n",
            "\n",
            "('ON STEP #:', '1000')\n",
            "Accuracy:\n",
            "0.9859\n",
            "\n",
            "\n",
            "('ON STEP #:', '1100')\n",
            "Accuracy:\n",
            "0.9832\n",
            "\n",
            "\n",
            "('ON STEP #:', '1200')\n",
            "Accuracy:\n",
            "0.9833\n",
            "\n",
            "\n",
            "('ON STEP #:', '1300')\n",
            "Accuracy:\n",
            "0.9861\n",
            "\n",
            "\n",
            "('ON STEP #:', '1400')\n",
            "Accuracy:\n",
            "0.9878\n",
            "\n",
            "\n",
            "('ON STEP #:', '1500')\n",
            "Accuracy:\n",
            "0.9886\n",
            "\n",
            "\n",
            "('ON STEP #:', '1600')\n",
            "Accuracy:\n",
            "0.9898\n",
            "\n",
            "\n",
            "('ON STEP #:', '1700')\n",
            "Accuracy:\n",
            "0.9882\n",
            "\n",
            "\n",
            "('ON STEP #:', '1800')\n",
            "Accuracy:\n",
            "0.9885\n",
            "\n",
            "\n",
            "('ON STEP #:', '1900')\n",
            "Accuracy:\n",
            "0.9886\n",
            "\n",
            "\n",
            "('ON STEP #:', '2000')\n",
            "Accuracy:\n",
            "0.9895\n",
            "\n",
            "\n",
            "('ON STEP #:', '2100')\n",
            "Accuracy:\n",
            "0.9896\n",
            "\n",
            "\n",
            "('ON STEP #:', '2200')\n",
            "Accuracy:\n",
            "0.9883\n",
            "\n",
            "\n",
            "('ON STEP #:', '2300')\n",
            "Accuracy:\n",
            "0.9889\n",
            "\n",
            "\n",
            "('ON STEP #:', '2400')\n",
            "Accuracy:\n",
            "0.988\n",
            "\n",
            "\n",
            "('ON STEP #:', '2500')\n",
            "Accuracy:\n",
            "0.9908\n",
            "\n",
            "\n",
            "('ON STEP #:', '2600')\n",
            "Accuracy:\n",
            "0.9906\n",
            "\n",
            "\n",
            "('ON STEP #:', '2700')\n",
            "Accuracy:\n",
            "0.9897\n",
            "\n",
            "\n",
            "('ON STEP #:', '2800')\n",
            "Accuracy:\n",
            "0.9898\n",
            "\n",
            "\n",
            "('ON STEP #:', '2900')\n",
            "Accuracy:\n",
            "0.99\n",
            "\n",
            "\n",
            "('ON STEP #:', '3000')\n",
            "Accuracy:\n",
            "0.9897\n",
            "\n",
            "\n",
            "('ON STEP #:', '3100')\n",
            "Accuracy:\n",
            "0.9898\n",
            "\n",
            "\n",
            "('ON STEP #:', '3200')\n",
            "Accuracy:\n",
            "0.9893\n",
            "\n",
            "\n",
            "('ON STEP #:', '3300')\n",
            "Accuracy:\n",
            "0.9908\n",
            "\n",
            "\n",
            "('ON STEP #:', '3400')\n",
            "Accuracy:\n",
            "0.9902\n",
            "\n",
            "\n",
            "('ON STEP #:', '3500')\n",
            "Accuracy:\n",
            "0.9894\n",
            "\n",
            "\n",
            "('ON STEP #:', '3600')\n",
            "Accuracy:\n",
            "0.9917\n",
            "\n",
            "\n",
            "('ON STEP #:', '3700')\n",
            "Accuracy:\n",
            "0.9902\n",
            "\n",
            "\n",
            "('ON STEP #:', '3800')\n",
            "Accuracy:\n",
            "0.9885\n",
            "\n",
            "\n",
            "('ON STEP #:', '3900')\n",
            "Accuracy:\n",
            "0.9904\n",
            "\n",
            "\n",
            "('ON STEP #:', '4000')\n",
            "Accuracy:\n",
            "0.9888\n",
            "\n",
            "\n",
            "('ON STEP #:', '4100')\n",
            "Accuracy:\n",
            "0.9914\n",
            "\n",
            "\n",
            "('ON STEP #:', '4200')\n",
            "Accuracy:\n",
            "0.9913\n",
            "\n",
            "\n",
            "('ON STEP #:', '4300')\n",
            "Accuracy:\n",
            "0.9908\n",
            "\n",
            "\n",
            "('ON STEP #:', '4400')\n",
            "Accuracy:\n",
            "0.9904\n",
            "\n",
            "\n",
            "('ON STEP #:', '4500')\n",
            "Accuracy:\n",
            "0.991\n",
            "\n",
            "\n",
            "('ON STEP #:', '4600')\n",
            "Accuracy:\n",
            "0.9931\n",
            "\n",
            "\n",
            "('ON STEP #:', '4700')\n",
            "Accuracy:\n",
            "0.9883\n",
            "\n",
            "\n",
            "('ON STEP #:', '4800')\n",
            "Accuracy:\n"
          ],
          "name": "stdout"
        },
        {
          "output_type": "stream",
          "text": [
            "0.9917\n",
            "\n",
            "\n",
            "('ON STEP #:', '4900')\n",
            "Accuracy:\n",
            "0.9916\n",
            "\n",
            "\n"
          ],
          "name": "stdout"
        }
      ]
    },
    {
      "metadata": {
        "id": "u8vU467ozwYi",
        "colab_type": "text"
      },
      "cell_type": "markdown",
      "source": [
        "## Hence we get about 99% accuracy at the test set! :)"
      ]
    },
    {
      "metadata": {
        "id": "ZWSySDpjzXfK",
        "colab_type": "code",
        "colab": {
          "autoexec": {
            "startup": false,
            "wait_interval": 0
          }
        }
      },
      "cell_type": "code",
      "source": [
        ""
      ],
      "execution_count": 0,
      "outputs": []
    }
  ]
}